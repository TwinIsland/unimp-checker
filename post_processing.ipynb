{
 "cells": [
  {
   "cell_type": "code",
   "metadata": {
    "collapsed": true,
    "ExecuteTime": {
     "end_time": "2024-08-26T16:12:02.173795Z",
     "start_time": "2024-08-26T16:12:02.168232Z"
    }
   },
   "source": [
    "import json\n",
    "\n",
    "OUTPUT = r\"sample_phase/all_field.ql-nsIUVgzmk8jgkN7qcAJkG/interpretedResults.sarif\"\n",
    "\n",
    "all_field_result_raw = json.load(open(OUTPUT, \"r\"))\n",
    "all_field_result = list(map(lambda x: (x['message']['text'], x['locations'][0]['physicalLocation']['region']),\n",
    "                            all_field_result_raw['runs'][0]['results']))"
   ],
   "outputs": [],
   "execution_count": 2
  },
  {
   "cell_type": "code",
   "source": [
    "list(all_field_result)"
   ],
   "metadata": {
    "collapsed": false,
    "ExecuteTime": {
     "end_time": "2024-08-26T16:12:02.669789Z",
     "start_time": "2024-08-26T16:12:02.661202Z"
    }
   },
   "outputs": [
    {
     "data": {
      "text/plain": [
       "[('MyType1.Name', {'startLine': 8, 'startColumn': 2, 'endColumn': 19}),\n",
       " ('MyType1.ID', {'startLine': 9, 'startColumn': 2, 'endColumn': 16}),\n",
       " ('MyType1.Subtype', {'startLine': 10, 'startColumn': 2, 'endColumn': 20}),\n",
       " ('MyType1.Subtype.Category',\n",
       "  {'startLine': 10, 'startColumn': 2, 'endColumn': 20}),\n",
       " ('MyType1.Subtype.Level',\n",
       "  {'startLine': 10, 'startColumn': 2, 'endColumn': 20}),\n",
       " ('MyType1.SubtypePtr', {'startLine': 11, 'startColumn': 2, 'endColumn': 21}),\n",
       " ('MyType2.Category', {'startLine': 16, 'startColumn': 2, 'endColumn': 17}),\n",
       " ('MyType2.Level', {'startLine': 17, 'startColumn': 2, 'endColumn': 14})]"
      ]
     },
     "execution_count": 3,
     "metadata": {},
     "output_type": "execute_result"
    }
   ],
   "execution_count": 3
  },
  {
   "cell_type": "code",
   "execution_count": 103,
   "outputs": [],
   "source": [
    "OUTPUT = r\"sample_phase/all_declare.ql-DbceDhNxzBGONsZOkCwSZ/interpretedResults.sarif\"\n",
    "\n",
    "all_declare_result_raw = json.load(open(OUTPUT, \"r\"))\n",
    "all_declare_result = list(map(lambda x: (x['message']['text'], x['locations'][0]['physicalLocation']['region']),\n",
    "                            all_declare_result_raw['runs'][0]['results']))"
   ],
   "metadata": {
    "collapsed": false,
    "ExecuteTime": {
     "end_time": "2024-08-21T16:28:32.378791Z",
     "start_time": "2024-08-21T16:28:32.365137900Z"
    }
   }
  },
  {
   "cell_type": "code",
   "execution_count": 104,
   "outputs": [
    {
     "data": {
      "text/plain": "[('MyType2.Level', {'startLine': 27, 'startColumn': 10, 'endColumn': 12}),\n ('SubtypePtr.Level', {'startLine': 27, 'startColumn': 10, 'endColumn': 12}),\n ('MyType1.Name', {'startLine': 14, 'startColumn': 9, 'endColumn': 21}),\n ('MyType2.Level', {'startLine': 18, 'startColumn': 10, 'endColumn': 12})]"
     },
     "execution_count": 104,
     "metadata": {},
     "output_type": "execute_result"
    }
   ],
   "source": [
    "all_declare_result"
   ],
   "metadata": {
    "collapsed": false,
    "ExecuteTime": {
     "end_time": "2024-08-21T16:28:32.568807500Z",
     "start_time": "2024-08-21T16:28:32.552852300Z"
    }
   }
  },
  {
   "cell_type": "code",
   "execution_count": 105,
   "outputs": [],
   "source": [
    "OUTPUT = r\"sample_phase/all_pruning.ql-3Hca1BX4aFO2WYH8RyS5E/interpretedResults.sarif\"\n",
    "\n",
    "all_prune_result_raw = json.load(open(OUTPUT, \"r\"))\n",
    "all_prune_result = list(map(lambda x: (x['message']['text'], x['locations'][0]['physicalLocation']['region']),\n",
    "                            all_prune_result_raw['runs'][0]['results']))"
   ],
   "metadata": {
    "collapsed": false,
    "ExecuteTime": {
     "end_time": "2024-08-21T16:28:34.094139600Z",
     "start_time": "2024-08-21T16:28:34.081386800Z"
    }
   }
  },
  {
   "cell_type": "code",
   "execution_count": 106,
   "outputs": [
    {
     "data": {
      "text/plain": "[('MyType2', {'startLine': 23, 'startColumn': 13, 'endColumn': 14})]"
     },
     "execution_count": 106,
     "metadata": {},
     "output_type": "execute_result"
    }
   ],
   "source": [
    "all_prune_result"
   ],
   "metadata": {
    "collapsed": false,
    "ExecuteTime": {
     "end_time": "2024-08-21T16:28:34.469760Z",
     "start_time": "2024-08-21T16:28:34.456777300Z"
    }
   }
  },
  {
   "cell_type": "code",
   "execution_count": 107,
   "outputs": [],
   "source": [
    "# need to run codeql bqrs decode results.bqrs --format=json --output=result.json to get select result\n",
    "\n",
    "OUTPUT = r\"sample_phase/all_select.ql-UH8_gcoix-O4HC8Di5NGy/interpretedResults.sarif\"\n",
    "\n",
    "all_select_result_raw = json.load(open(OUTPUT, \"r\"))\n",
    "all_select_result = list(map(lambda x: (x['message']['text'], x['locations'][0]['physicalLocation']['region']),\n",
    "                            all_select_result_raw['runs'][0]['results']))\n"
   ],
   "metadata": {
    "collapsed": false,
    "ExecuteTime": {
     "end_time": "2024-08-21T16:28:35.087507100Z",
     "start_time": "2024-08-21T16:28:35.075710700Z"
    }
   }
  },
  {
   "cell_type": "code",
   "execution_count": 108,
   "outputs": [
    {
     "data": {
      "text/plain": "[('MyType2.SubtypePtr.Category',\n  {'startLine': 21, 'startColumn': 2, 'endColumn': 23}),\n ('MyType1.SubtypePtr', {'startLine': 21, 'startColumn': 2, 'endColumn': 14}),\n ('MyType1.ID', {'startLine': 25, 'startColumn': 2, 'endColumn': 6}),\n ('MyType1.SubtypePtr', {'startLine': 26, 'startColumn': 2, 'endColumn': 14}),\n ('MyType2.Level', {'startLine': 32, 'startColumn': 34, 'endColumn': 41})]"
     },
     "execution_count": 108,
     "metadata": {},
     "output_type": "execute_result"
    }
   ],
   "source": [
    "all_select_result"
   ],
   "metadata": {
    "collapsed": false,
    "ExecuteTime": {
     "end_time": "2024-08-21T16:28:36.048000700Z",
     "start_time": "2024-08-21T16:28:36.036677100Z"
    }
   }
  },
  {
   "cell_type": "code",
   "execution_count": null,
   "outputs": [],
   "source": [],
   "metadata": {
    "collapsed": false
   }
  }
 ],
 "metadata": {
  "kernelspec": {
   "display_name": "Python 3",
   "language": "python",
   "name": "python3"
  },
  "language_info": {
   "codemirror_mode": {
    "name": "ipython",
    "version": 2
   },
   "file_extension": ".py",
   "mimetype": "text/x-python",
   "name": "python",
   "nbconvert_exporter": "python",
   "pygments_lexer": "ipython2",
   "version": "2.7.6"
  }
 },
 "nbformat": 4,
 "nbformat_minor": 0
}
