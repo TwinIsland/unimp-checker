{
 "cells": [
  {
   "cell_type": "code",
   "metadata": {
    "collapsed": true,
    "ExecuteTime": {
     "end_time": "2024-08-28T00:13:58.563348Z",
     "start_time": "2024-08-28T00:13:58.556187Z"
    }
   },
   "source": [
    "import json\n",
    "\n",
    "OUTPUT = r\"sample_phase/all_field.ql-nsIUVgzmk8jgkN7qcAJkG/interpretedResults.sarif\"\n",
    "\n",
    "all_field_result_raw = json.load(open(OUTPUT, \"r\"))\n",
    "all_field_result = list(map(lambda x: (x['message']['text'], x['locations'][0]['physicalLocation']['region']),\n",
    "                            all_field_result_raw['runs'][0]['results']))"
   ],
   "outputs": [],
   "execution_count": 1
  },
  {
   "cell_type": "code",
   "execution_count": 67,
   "outputs": [
    {
     "data": {
      "text/plain": "[('MyType1.Name', {'startLine': 8, 'startColumn': 2, 'endColumn': 19}),\n ('MyType1.ID', {'startLine': 9, 'startColumn': 2, 'endColumn': 16}),\n ('MyType1.Subtype', {'startLine': 10, 'startColumn': 2, 'endColumn': 20}),\n ('MyType1.Subtype.Category',\n  {'startLine': 10, 'startColumn': 2, 'endColumn': 20}),\n ('MyType1.Subtype.Level',\n  {'startLine': 10, 'startColumn': 2, 'endColumn': 20}),\n ('MyType1.SubtypePtr', {'startLine': 11, 'startColumn': 2, 'endColumn': 21}),\n ('MyType2.Category', {'startLine': 16, 'startColumn': 2, 'endColumn': 17}),\n ('MyType2.Level', {'startLine': 17, 'startColumn': 2, 'endColumn': 14})]"
     },
     "execution_count": 67,
     "metadata": {},
     "output_type": "execute_result"
    }
   ],
   "source": [
    "list(all_field_result)"
   ],
   "metadata": {
    "collapsed": false,
    "ExecuteTime": {
     "end_time": "2024-08-21T15:42:28.833172900Z",
     "start_time": "2024-08-21T15:42:28.823664300Z"
    }
   }
  },
  {
   "cell_type": "code",
   "execution_count": 103,
   "outputs": [],
   "source": [
    "OUTPUT = r\"sample_phase/all_declare.ql-DbceDhNxzBGONsZOkCwSZ/interpretedResults.sarif\"\n",
    "\n",
    "all_declare_result_raw = json.load(open(OUTPUT, \"r\"))\n",
    "all_declare_result = list(map(lambda x: (x['message']['text'], x['locations'][0]['physicalLocation']['region']),\n",
    "                            all_declare_result_raw['runs'][0]['results']))"
   ],
   "metadata": {
    "collapsed": false,
    "ExecuteTime": {
     "end_time": "2024-08-21T16:28:32.378791Z",
     "start_time": "2024-08-21T16:28:32.365137900Z"
    }
   }
  },
  {
   "cell_type": "code",
   "execution_count": 104,
   "outputs": [
    {
     "data": {
      "text/plain": "[('MyType2.Level', {'startLine': 27, 'startColumn': 10, 'endColumn': 12}),\n ('SubtypePtr.Level', {'startLine': 27, 'startColumn': 10, 'endColumn': 12}),\n ('MyType1.Name', {'startLine': 14, 'startColumn': 9, 'endColumn': 21}),\n ('MyType2.Level', {'startLine': 18, 'startColumn': 10, 'endColumn': 12})]"
     },
     "execution_count": 104,
     "metadata": {},
     "output_type": "execute_result"
    }
   ],
   "source": [
    "all_declare_result"
   ],
   "metadata": {
    "collapsed": false,
    "ExecuteTime": {
     "end_time": "2024-08-21T16:28:32.568807500Z",
     "start_time": "2024-08-21T16:28:32.552852300Z"
    }
   }
  },
  {
   "cell_type": "code",
   "source": [
    "OUTPUT = r\"./out/all_pruning_046092114101097108095099097115101092.sarif\"\n",
    "\n",
    "all_prune_result_raw = json.load(open(OUTPUT, \"r\"))\n",
    "all_prune_result = list(map(lambda x: (x['message']['text'], x['locations'][0]['physicalLocation']['region']),\n",
    "                            all_prune_result_raw['runs'][0]['results']))"
   ],
   "metadata": {
    "collapsed": false,
    "ExecuteTime": {
     "end_time": "2024-08-28T00:14:23.782489Z",
     "start_time": "2024-08-28T00:14:23.776539Z"
    }
   },
   "outputs": [],
   "execution_count": 4
  },
  {
   "cell_type": "code",
   "source": [
    "all_prune_result"
   ],
   "metadata": {
    "collapsed": false,
    "ExecuteTime": {
     "end_time": "2024-08-28T00:14:24.500598Z",
     "start_time": "2024-08-28T00:14:24.485482Z"
    }
   },
   "outputs": [
    {
     "data": {
      "text/plain": [
       "[('string', {'startLine': 34, 'startColumn': 34, 'endColumn': 39}),\n",
       " ('string', {'startLine': 43, 'startColumn': 11, 'endColumn': 73}),\n",
       " ('string', {'startLine': 44, 'startColumn': 11, 'endColumn': 53}),\n",
       " ('string', {'startLine': 45, 'startColumn': 11, 'endColumn': 59}),\n",
       " ('string', {'startLine': 46, 'startColumn': 11, 'endColumn': 73}),\n",
       " ('string', {'startLine': 47, 'startColumn': 11, 'endColumn': 70}),\n",
       " ('string', {'startLine': 52, 'startColumn': 27, 'endColumn': 30}),\n",
       " ('string', {'startLine': 52, 'startColumn': 32, 'endColumn': 57}),\n",
       " ('string', {'startLine': 52, 'startColumn': 59, 'endColumn': 76}),\n",
       " ('string', {'startLine': 53, 'startColumn': 26, 'endColumn': 29}),\n",
       " ('string', {'startLine': 53, 'startColumn': 31, 'endColumn': 34}),\n",
       " ('string', {'startLine': 53, 'startColumn': 36, 'endColumn': 59}),\n",
       " ('string', {'startLine': 57, 'startColumn': 11, 'endColumn': 58}),\n",
       " ('string', {'startLine': 58, 'startColumn': 11, 'endColumn': 63}),\n",
       " ('string', {'startLine': 61, 'startColumn': 11, 'endColumn': 71}),\n",
       " ('string', {'startLine': 64, 'startColumn': 18, 'endColumn': 47}),\n",
       " ('int', {'startLine': 65, 'startColumn': 11, 'endColumn': 12}),\n",
       " ('string', {'startLine': 69, 'startColumn': 11, 'endColumn': 85}),\n",
       " ('string', {'startLine': 72, 'startColumn': 18, 'endColumn': 44}),\n",
       " ('int', {'startLine': 73, 'startColumn': 11, 'endColumn': 12}),\n",
       " ('string', {'startLine': 79, 'startColumn': 11, 'endColumn': 66}),\n",
       " ('string', {'startLine': 89, 'startColumn': 18, 'endColumn': 47}),\n",
       " ('int', {'startLine': 90, 'startColumn': 11, 'endColumn': 12}),\n",
       " ('string', {'startLine': 39, 'startColumn': 34, 'endColumn': 39}),\n",
       " ('string', {'startLine': 48, 'startColumn': 11, 'endColumn': 73}),\n",
       " ('string', {'startLine': 49, 'startColumn': 11, 'endColumn': 53}),\n",
       " ('string', {'startLine': 50, 'startColumn': 11, 'endColumn': 59}),\n",
       " ('string', {'startLine': 51, 'startColumn': 11, 'endColumn': 73}),\n",
       " ('string', {'startLine': 52, 'startColumn': 11, 'endColumn': 70}),\n",
       " ('Logger', {'startLine': 62, 'startColumn': 17, 'endColumn': 49}),\n",
       " ('int', {'startLine': 67, 'startColumn': 11, 'endColumn': 12}),\n",
       " ('string', {'startLine': 72, 'startColumn': 18, 'endColumn': 49}),\n",
       " ('int', {'startLine': 73, 'startColumn': 11, 'endColumn': 12}),\n",
       " ('string', {'startLine': 92, 'startColumn': 18, 'endColumn': 20}),\n",
       " ('int', {'startLine': 93, 'startColumn': 11, 'endColumn': 12}),\n",
       " ('Options', {'startLine': 100, 'startColumn': 31, 'endColumn': 75}),\n",
       " ('string', {'startLine': 102, 'startColumn': 18, 'endColumn': 20}),\n",
       " ('int', {'startLine': 103, 'startColumn': 11, 'endColumn': 12}),\n",
       " ('string', {'startLine': 106, 'startColumn': 11, 'endColumn': 36}),\n",
       " ('string', {'startLine': 110, 'startColumn': 18, 'endColumn': 20}),\n",
       " ('int', {'startLine': 111, 'startColumn': 11, 'endColumn': 12}),\n",
       " ('string', {'startLine': 116, 'startColumn': 18, 'endColumn': 20}),\n",
       " ('int', {'startLine': 117, 'startColumn': 11, 'endColumn': 12}),\n",
       " ('string', {'startLine': 120, 'startColumn': 11, 'endColumn': 30}),\n",
       " ('Context', {'startLine': 123, 'startColumn': 22, 'endColumn': 50}),\n",
       " ('string', {'startLine': 124, 'startColumn': 18, 'endColumn': 43}),\n",
       " ('int', {'startLine': 125, 'startColumn': 11, 'endColumn': 12}),\n",
       " ('SchemeBuilder', {'startLine': 20, 'startColumn': 24, 'endColumn': 36}),\n",
       " ('string', {'startLine': 156, 'startColumn': 27, 'endColumn': 39}),\n",
       " ('string', {'startLine': 757, 'startColumn': 43, 'endColumn': 74}),\n",
       " ('map type', {'startLine': 17, 'startColumn': 38, 'endColumn': 41}),\n",
       " ('map type', {'startLine': 40, 'startColumn': 38, 'endColumn': 41}),\n",
       " ('map type', {'startLine': 112, 'startColumn': 38, 'endColumn': 41}),\n",
       " ('slice type', {'startLine': 135, 'startColumn': 29, 'endColumn': 32}),\n",
       " ('slice type', {'startLine': 140, 'startColumn': 29, 'endColumn': 32}),\n",
       " ('map type', {'startLine': 162, 'startColumn': 38, 'endColumn': 41}),\n",
       " ('map type', {'startLine': 185, 'startColumn': 38, 'endColumn': 41}),\n",
       " ('map type', {'startLine': 192, 'startColumn': 38, 'endColumn': 41}),\n",
       " ('pointer type', {'startLine': 200, 'startColumn': 22, 'endColumn': 26}),\n",
       " ('slice type', {'startLine': 205, 'startColumn': 36, 'endColumn': 39}),\n",
       " ('slice type', {'startLine': 212, 'startColumn': 32, 'endColumn': 35}),\n",
       " ('map type', {'startLine': 219, 'startColumn': 38, 'endColumn': 41}),\n",
       " ('pointer type', {'startLine': 227, 'startColumn': 22, 'endColumn': 26}),\n",
       " ('slice type', {'startLine': 231, 'startColumn': 46, 'endColumn': 49}),\n",
       " ('slice type', {'startLine': 340, 'startColumn': 39, 'endColumn': 42}),\n",
       " ('map type', {'startLine': 372, 'startColumn': 38, 'endColumn': 41}),\n",
       " ('slice type', {'startLine': 379, 'startColumn': 39, 'endColumn': 42}),\n",
       " ('pointer type', {'startLine': 389, 'startColumn': 22, 'endColumn': 26}),\n",
       " ('pointer type', {'startLine': 394, 'startColumn': 22, 'endColumn': 26}),\n",
       " ('slice type', {'startLine': 399, 'startColumn': 35, 'endColumn': 38}),\n",
       " ('slice type', {'startLine': 406, 'startColumn': 35, 'endColumn': 38}),\n",
       " ('slice type', {'startLine': 413, 'startColumn': 32, 'endColumn': 35}),\n",
       " ('slice type', {'startLine': 420, 'startColumn': 37, 'endColumn': 40}),\n",
       " ('pointer type', {'startLine': 428, 'startColumn': 22, 'endColumn': 26}),\n",
       " ('slice type', {'startLine': 449, 'startColumn': 39, 'endColumn': 42}),\n",
       " ('map type', {'startLine': 470, 'startColumn': 38, 'endColumn': 41}),\n",
       " ('string', {'startLine': 50, 'startColumn': 29, 'endColumn': 58}),\n",
       " ('Manager', {'startLine': 56, 'startColumn': 13, 'endColumn': 16}),\n",
       " ('TypedReconciler', {'startLine': 56, 'startColumn': 18, 'endColumn': 52}),\n",
       " ('string', {'startLine': 67, 'startColumn': 27, 'endColumn': 56}),\n",
       " ('Manager', {'startLine': 67, 'startColumn': 58, 'endColumn': 61}),\n",
       " ('TypedOptions', {'startLine': 68, 'startColumn': 3, 'endColumn': 36}),\n",
       " ('string', {'startLine': 126, 'startColumn': 13, 'endColumn': 43}),\n",
       " ('Context', {'startLine': 130, 'startColumn': 22, 'endColumn': 36}),\n",
       " ('NamespacedName', {'startLine': 130, 'startColumn': 38, 'endColumn': 60}),\n",
       " ('string', {'startLine': 144, 'startColumn': 14, 'endColumn': 44}),\n",
       " ('string', {'startLine': 154, 'startColumn': 14, 'endColumn': 62}),\n",
       " ('Context', {'startLine': 155, 'startColumn': 29, 'endColumn': 43}),\n",
       " ('string', {'startLine': 179, 'startColumn': 42, 'endColumn': 53}),\n",
       " ('string', {'startLine': 195, 'startColumn': 13, 'endColumn': 98}),\n",
       " ('string', {'startLine': 203, 'startColumn': 13, 'endColumn': 98}),\n",
       " ('string', {'startLine': 206, 'startColumn': 12, 'endColumn': 103}),\n",
       " ('Context', {'startLine': 230, 'startColumn': 22, 'endColumn': 36}),\n",
       " ('NamespacedName', {'startLine': 230, 'startColumn': 38, 'endColumn': 122}),\n",
       " ('string', {'startLine': 232, 'startColumn': 15, 'endColumn': 46}),\n",
       " ('Context', {'startLine': 233, 'startColumn': 26, 'endColumn': 40}),\n",
       " ('string', {'startLine': 241, 'startColumn': 15, 'endColumn': 40}),\n",
       " ('Context', {'startLine': 242, 'startColumn': 26, 'endColumn': 40}),\n",
       " ('Context', {'startLine': 253, 'startColumn': 21, 'endColumn': 35}),\n",
       " ('NamespacedName',\n",
       "  {'startLine': 253, 'startColumn': 37, 'endLine': 256, 'endColumn': 3}),\n",
       " ('string', {'startLine': 258, 'startColumn': 14, 'endColumn': 52}),\n",
       " ('Context', {'startLine': 263, 'startColumn': 25, 'endColumn': 39}),\n",
       " ('string', {'startLine': 274, 'startColumn': 22, 'endColumn': 85}),\n",
       " ('string', {'startLine': 285, 'startColumn': 23, 'endColumn': 54}),\n",
       " ('string', {'startLine': 288, 'startColumn': 15, 'endColumn': 32}),\n",
       " ('string', {'startLine': 293, 'startColumn': 23, 'endColumn': 66}),\n",
       " ('string', {'startLine': 297, 'startColumn': 15, 'endColumn': 39}),\n",
       " ('string', {'startLine': 309, 'startColumn': 13, 'endColumn': 35}),\n",
       " ('Context', {'startLine': 314, 'startColumn': 24, 'endColumn': 38}),\n",
       " ('string', {'startLine': 348, 'startColumn': 15, 'endColumn': 76}),\n",
       " ('string', {'startLine': 354, 'startColumn': 15, 'endColumn': 34}),\n",
       " ('string', {'startLine': 359, 'startColumn': 15, 'endColumn': 36}),\n",
       " ('Context', {'startLine': 366, 'startColumn': 38, 'endColumn': 52}),\n",
       " ('Context', {'startLine': 373, 'startColumn': 34, 'endColumn': 48}),\n",
       " ('Context', {'startLine': 383, 'startColumn': 24, 'endColumn': 38}),\n",
       " ('string', {'startLine': 400, 'startColumn': 31, 'endColumn': 43}),\n",
       " ('string', {'startLine': 400, 'startColumn': 45, 'endColumn': 73}),\n",
       " ('Time', {'startLine': 401, 'startColumn': 23, 'endColumn': 40}),\n",
       " ('Duration', {'startLine': 401, 'startColumn': 38, 'endColumn': 39}),\n",
       " ('string', {'startLine': 403, 'startColumn': 22, 'endColumn': 50}),\n",
       " ('Context', {'startLine': 415, 'startColumn': 21, 'endColumn': 35}),\n",
       " ('NamespacedName',\n",
       "  {'startLine': 415, 'startColumn': 37, 'endLine': 418, 'endColumn': 3}),\n",
       " ('string', {'startLine': 420, 'startColumn': 14, 'endColumn': 43}),\n",
       " ('Context', {'startLine': 423, 'startColumn': 25, 'endColumn': 39}),\n",
       " ('string', {'startLine': 431, 'startColumn': 14, 'endColumn': 48}),\n",
       " ('Context', {'startLine': 435, 'startColumn': 25, 'endColumn': 39}),\n",
       " ('Context', {'startLine': 462, 'startColumn': 21, 'endColumn': 35}),\n",
       " ('NamespacedName',\n",
       "  {'startLine': 462, 'startColumn': 37, 'endLine': 465, 'endColumn': 3}),\n",
       " ('string', {'startLine': 467, 'startColumn': 14, 'endColumn': 45}),\n",
       " ('Context', {'startLine': 470, 'startColumn': 25, 'endColumn': 39}),\n",
       " ('string', {'startLine': 478, 'startColumn': 14, 'endColumn': 50}),\n",
       " ('Context', {'startLine': 482, 'startColumn': 25, 'endColumn': 39}),\n",
       " ('Context', {'startLine': 496, 'startColumn': 21, 'endColumn': 35}),\n",
       " ('NamespacedName',\n",
       "  {'startLine': 496, 'startColumn': 37, 'endLine': 499, 'endColumn': 3}),\n",
       " ('string', {'startLine': 501, 'startColumn': 14, 'endColumn': 45}),\n",
       " ('Context', {'startLine': 504, 'startColumn': 25, 'endColumn': 39}),\n",
       " ('string', {'startLine': 512, 'startColumn': 14, 'endColumn': 54}),\n",
       " ('Context', {'startLine': 516, 'startColumn': 25, 'endColumn': 39}),\n",
       " ('Context', {'startLine': 530, 'startColumn': 21, 'endColumn': 35}),\n",
       " ('NamespacedName',\n",
       "  {'startLine': 530, 'startColumn': 37, 'endLine': 533, 'endColumn': 3}),\n",
       " ('string', {'startLine': 535, 'startColumn': 14, 'endColumn': 50}),\n",
       " ('Context', {'startLine': 538, 'startColumn': 25, 'endColumn': 39}),\n",
       " ('Context', {'startLine': 555, 'startColumn': 21, 'endColumn': 35}),\n",
       " ('NamespacedName',\n",
       "  {'startLine': 555, 'startColumn': 37, 'endLine': 558, 'endColumn': 3}),\n",
       " ('string', {'startLine': 560, 'startColumn': 14, 'endColumn': 51}),\n",
       " ('Context', {'startLine': 563, 'startColumn': 25, 'endColumn': 39}),\n",
       " ('string', {'startLine': 571, 'startColumn': 14, 'endColumn': 44}),\n",
       " ('Context', {'startLine': 575, 'startColumn': 25, 'endColumn': 39}),\n",
       " ('Context', {'startLine': 594, 'startColumn': 22, 'endColumn': 36}),\n",
       " ('string', {'startLine': 620, 'startColumn': 14, 'endColumn': 57}),\n",
       " ('string', {'startLine': 624, 'startColumn': 22, 'endColumn': 80}),\n",
       " ('string', {'startLine': 628, 'startColumn': 14, 'endColumn': 39}),\n",
       " ('string', {'startLine': 630, 'startColumn': 22, 'endColumn': 67}),\n",
       " ('string', {'startLine': 632, 'startColumn': 14, 'endColumn': 39}),\n",
       " ('string', {'startLine': 635, 'startColumn': 13, 'endColumn': 40}),\n",
       " ('Context', {'startLine': 646, 'startColumn': 34, 'endColumn': 48}),\n",
       " ('GroupVersion', {'startLine': 652, 'startColumn': 23, 'endColumn': 58}),\n",
       " ('Context', {'startLine': 738, 'startColumn': 29, 'endColumn': 43}),\n",
       " ('Context', {'startLine': 749, 'startColumn': 29, 'endColumn': 43}),\n",
       " ('string', {'startLine': 773, 'startColumn': 14, 'endColumn': 33}),\n",
       " ('Context', {'startLine': 799, 'startColumn': 22, 'endColumn': 36}),\n",
       " ('string', {'startLine': 821, 'startColumn': 13, 'endColumn': 27}),\n",
       " ('Context', {'startLine': 822, 'startColumn': 25, 'endColumn': 39}),\n",
       " ('string', {'startLine': 824, 'startColumn': 20, 'endColumn': 42}),\n",
       " ('string', {'startLine': 43, 'startColumn': 9, 'endColumn': 41}),\n",
       " ('string', {'startLine': 46, 'startColumn': 26, 'endColumn': 51}),\n",
       " ('string', {'startLine': 52, 'startColumn': 26, 'endColumn': 59}),\n",
       " ('string', {'startLine': 54, 'startColumn': 9, 'endColumn': 40}),\n",
       " ('string', {'startLine': 60, 'startColumn': 9, 'endColumn': 41}),\n",
       " ('string', {'startLine': 63, 'startColumn': 21, 'endColumn': 46}),\n",
       " ('string', {'startLine': 66, 'startColumn': 9, 'endColumn': 40}),\n",
       " ('string', {'startLine': 72, 'startColumn': 9, 'endColumn': 41}),\n",
       " ('string', {'startLine': 75, 'startColumn': 21, 'endColumn': 46}),\n",
       " ('string', {'startLine': 78, 'startColumn': 9, 'endColumn': 40}),\n",
       " ('string', {'startLine': 87, 'startColumn': 26, 'endColumn': 59}),\n",
       " ('string', {'startLine': 89, 'startColumn': 9, 'endColumn': 43}),\n",
       " ('string', {'startLine': 95, 'startColumn': 9, 'endColumn': 55}),\n",
       " ('Duration', {'startLine': 96, 'startColumn': 19, 'endColumn': 32}),\n",
       " ('Duration', {'startLine': 96, 'startColumn': 34, 'endColumn': 46}),\n",
       " ('string', {'startLine': 102, 'startColumn': 10, 'endColumn': 65}),\n",
       " ('string', {'startLine': 114, 'startColumn': 9, 'endColumn': 38}),\n",
       " ('string', {'startLine': 121, 'startColumn': 9, 'endColumn': 45}),\n",
       " ('Duration', {'startLine': 123, 'startColumn': 19, 'endColumn': 32}),\n",
       " ('Duration', {'startLine': 123, 'startColumn': 34, 'endColumn': 48}),\n",
       " ('string', {'startLine': 132, 'startColumn': 10, 'endColumn': 71}),\n",
       " ('string', {'startLine': 135, 'startColumn': 29, 'endColumn': 64}),\n",
       " ('string', {'startLine': 149, 'startColumn': 9, 'endColumn': 41}),\n",
       " ('string', {'startLine': 155, 'startColumn': 9, 'endColumn': 57}),\n",
       " ('Duration', {'startLine': 162, 'startColumn': 19, 'endColumn': 32}),\n",
       " ('Duration', {'startLine': 162, 'startColumn': 34, 'endColumn': 50}),\n",
       " ('string', {'startLine': 173, 'startColumn': 10, 'endColumn': 60}),\n",
       " ('Duration', {'startLine': 185, 'startColumn': 18, 'endColumn': 31}),\n",
       " ('Duration', {'startLine': 185, 'startColumn': 33, 'endColumn': 49}),\n",
       " ('string', {'startLine': 196, 'startColumn': 10, 'endColumn': 45}),\n",
       " ('string', {'startLine': 208, 'startColumn': 9, 'endColumn': 43}),\n",
       " ('string', {'startLine': 223, 'startColumn': 10, 'endColumn': 24}),\n",
       " ('string', {'startLine': 226, 'startColumn': 22, 'endColumn': 48}),\n",
       " ('string', {'startLine': 229, 'startColumn': 10, 'endColumn': 37}),\n",
       " ('string', {'startLine': 251, 'startColumn': 11, 'endColumn': 37}),\n",
       " ('string', {'startLine': 252, 'startColumn': 11, 'endColumn': 29}),\n",
       " ('string', {'startLine': 256, 'startColumn': 20, 'endColumn': 50}),\n",
       " ('string', {'startLine': 26, 'startColumn': 26, 'endColumn': 42}),\n",
       " ('string', {'startLine': 43, 'startColumn': 27, 'endColumn': 43}),\n",
       " ('string', {'startLine': 36, 'startColumn': 27, 'endColumn': 35}),\n",
       " ('basic interface type',\n",
       "  {'startLine': 45, 'startColumn': 32, 'endColumn': 36}),\n",
       " ('slice type', {'startLine': 49, 'startColumn': 29, 'endColumn': 37}),\n",
       " ('slice type', {'startLine': 85, 'startColumn': 23, 'endColumn': 29}),\n",
       " ('PodSecurityContext',\n",
       "  {'startLine': 178, 'startColumn': 24, 'endColumn': 47}),\n",
       " ('int', {'startLine': 356, 'startColumn': 29, 'endColumn': 30}),\n",
       " ('string', {'startLine': 38, 'startColumn': 21, 'endColumn': 69}),\n",
       " ('string', {'startLine': 50, 'startColumn': 35, 'endColumn': 45}),\n",
       " ('int32', {'startLine': 50, 'startColumn': 52, 'endColumn': 53}),\n",
       " ('string', {'startLine': 51, 'startColumn': 22, 'endColumn': 60}),\n",
       " ('string', {'startLine': 56, 'startColumn': 34, 'endColumn': 43}),\n",
       " ('slice type', {'startLine': 56, 'startColumn': 45, 'endColumn': 57}),\n",
       " ('int32', {'startLine': 56, 'startColumn': 59, 'endColumn': 60}),\n",
       " ('string', {'startLine': 57, 'startColumn': 21, 'endColumn': 56}),\n",
       " ('string', {'startLine': 63, 'startColumn': 31, 'endColumn': 35}),\n",
       " ('slice type', {'startLine': 63, 'startColumn': 37, 'endColumn': 49}),\n",
       " ('int32', {'startLine': 63, 'startColumn': 51, 'endColumn': 58}),\n",
       " ('string', {'startLine': 64, 'startColumn': 21, 'endColumn': 48}),\n",
       " ('string', {'startLine': 72, 'startColumn': 25, 'endColumn': 68})]"
      ]
     },
     "execution_count": 5,
     "metadata": {},
     "output_type": "execute_result"
    }
   ],
   "execution_count": 5
  },
  {
   "cell_type": "code",
   "execution_count": 107,
   "outputs": [],
   "source": [
    "# need to run codeql bqrs decode results.bqrs --format=json --output=result.json to get select result\n",
    "\n",
    "OUTPUT = r\"sample_phase/all_select.ql-UH8_gcoix-O4HC8Di5NGy/interpretedResults.sarif\"\n",
    "\n",
    "all_select_result_raw = json.load(open(OUTPUT, \"r\"))\n",
    "all_select_result = list(map(lambda x: (x['message']['text'], x['locations'][0]['physicalLocation']['region']),\n",
    "                            all_select_result_raw['runs'][0]['results']))\n"
   ],
   "metadata": {
    "collapsed": false,
    "ExecuteTime": {
     "end_time": "2024-08-21T16:28:35.087507100Z",
     "start_time": "2024-08-21T16:28:35.075710700Z"
    }
   }
  },
  {
   "cell_type": "code",
   "execution_count": 108,
   "outputs": [
    {
     "data": {
      "text/plain": "[('MyType2.SubtypePtr.Category',\n  {'startLine': 21, 'startColumn': 2, 'endColumn': 23}),\n ('MyType1.SubtypePtr', {'startLine': 21, 'startColumn': 2, 'endColumn': 14}),\n ('MyType1.ID', {'startLine': 25, 'startColumn': 2, 'endColumn': 6}),\n ('MyType1.SubtypePtr', {'startLine': 26, 'startColumn': 2, 'endColumn': 14}),\n ('MyType2.Level', {'startLine': 32, 'startColumn': 34, 'endColumn': 41})]"
     },
     "execution_count": 108,
     "metadata": {},
     "output_type": "execute_result"
    }
   ],
   "source": [
    "all_select_result"
   ],
   "metadata": {
    "collapsed": false,
    "ExecuteTime": {
     "end_time": "2024-08-21T16:28:36.048000700Z",
     "start_time": "2024-08-21T16:28:36.036677100Z"
    }
   }
  },
  {
   "cell_type": "code",
   "execution_count": null,
   "outputs": [],
   "source": [],
   "metadata": {
    "collapsed": false
   }
  }
 ],
 "metadata": {
  "kernelspec": {
   "display_name": "Python 3",
   "language": "python",
   "name": "python3"
  },
  "language_info": {
   "codemirror_mode": {
    "name": "ipython",
    "version": 2
   },
   "file_extension": ".py",
   "mimetype": "text/x-python",
   "name": "python",
   "nbconvert_exporter": "python",
   "pygments_lexer": "ipython2",
   "version": "2.7.6"
  }
 },
 "nbformat": 4,
 "nbformat_minor": 0
}
