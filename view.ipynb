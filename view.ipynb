{
 "cells": [
  {
   "cell_type": "code",
   "metadata": {
    "collapsed": true,
    "ExecuteTime": {
     "end_time": "2024-09-01T21:46:12.127076Z",
     "start_time": "2024-09-01T21:46:12.121446Z"
    }
   },
   "source": [
    "import json\n",
    "\n",
    "OUTPUT = r\"out/all_field_046092114101097108095099097115101092.sarif\"\n",
    "\n",
    "all_field_result_raw = json.load(open(OUTPUT, \"r\"))\n",
    "all_field_result = list(map(lambda x: (x['message']['text'], x['locations'][0]['physicalLocation']['region']),\n",
    "                            all_field_result_raw['runs'][0]['results']))"
   ],
   "outputs": [],
   "execution_count": 9
  },
  {
   "metadata": {
    "ExecuteTime": {
     "end_time": "2024-09-01T21:46:15.003861Z",
     "start_time": "2024-09-01T21:46:14.990865Z"
    }
   },
   "cell_type": "code",
   "source": [
    "for idx, i in enumerate(all_field_result):\n",
    "    if '\\n' in i[0]:\n",
    "        all_field_result.extend((all_field_result[idx][0].split('\\n'), all_field_result[idx][1]))\n"
   ],
   "outputs": [
    {
     "ename": "KeyError",
     "evalue": "0",
     "output_type": "error",
     "traceback": [
      "\u001B[1;31m---------------------------------------------------------------------------\u001B[0m",
      "\u001B[1;31mKeyError\u001B[0m                                  Traceback (most recent call last)",
      "Cell \u001B[1;32mIn[10], line 2\u001B[0m\n\u001B[0;32m      1\u001B[0m \u001B[38;5;28;01mfor\u001B[39;00m idx, i \u001B[38;5;129;01min\u001B[39;00m \u001B[38;5;28menumerate\u001B[39m(all_field_result):\n\u001B[1;32m----> 2\u001B[0m     \u001B[38;5;28;01mif\u001B[39;00m \u001B[38;5;124m'\u001B[39m\u001B[38;5;130;01m\\n\u001B[39;00m\u001B[38;5;124m'\u001B[39m \u001B[38;5;129;01min\u001B[39;00m \u001B[43mi\u001B[49m\u001B[43m[\u001B[49m\u001B[38;5;241;43m0\u001B[39;49m\u001B[43m]\u001B[49m:\n\u001B[0;32m      3\u001B[0m         all_field_result\u001B[38;5;241m.\u001B[39mextend((all_field_result[idx][\u001B[38;5;241m0\u001B[39m]\u001B[38;5;241m.\u001B[39msplit(\u001B[38;5;124m'\u001B[39m\u001B[38;5;130;01m\\n\u001B[39;00m\u001B[38;5;124m'\u001B[39m), all_field_result[idx][\u001B[38;5;241m1\u001B[39m]))\n",
      "\u001B[1;31mKeyError\u001B[0m: 0"
     ]
    }
   ],
   "execution_count": 10
  },
  {
   "cell_type": "code",
   "metadata": {
    "collapsed": false,
    "ExecuteTime": {
     "end_time": "2024-09-01T21:47:30.819083Z",
     "start_time": "2024-09-01T21:47:30.782884Z"
    }
   },
   "source": [
    "for idx, i in enumerate(all_field_result):\n",
    "    try:\n",
    "        print(str(idx)  + \" \" +  i[0])\n",
    "    except Exception:\n",
    "        print(i)\n",
    "        raise Exception"
   ],
   "outputs": [
    {
     "name": "stdout",
     "output_type": "stream",
     "text": [
      "0 ZookeeperClusterStatus.Members\n",
      "ZookeeperClusterStatus.Members.Ready\n",
      "ZookeeperClusterStatus.Members.Unready\n",
      "1 ZookeeperClusterStatus.Replicas\n",
      "2 ZookeeperClusterStatus.ReadyReplicas\n",
      "3 ZookeeperClusterStatus.InternalClientEndpoint\n",
      "4 ZookeeperClusterStatus.ExternalClientEndpoint\n",
      "5 ZookeeperClusterStatus.MetaRootCreated\n",
      "6 ZookeeperClusterStatus.CurrentVersion\n",
      "7 ZookeeperClusterStatus.TargetVersion\n",
      "8 ZookeeperClusterStatus.Conditions\n",
      "9 MembersStatus.Ready\n",
      "10 MembersStatus.Unready\n",
      "11 ClusterCondition.Type\n",
      "12 ClusterCondition.Status\n",
      "13 ClusterCondition.Reason\n",
      "14 ClusterCondition.Message\n",
      "15 ClusterCondition.LastUpdateTime\n",
      "16 ClusterCondition.LastTransitionTime\n",
      "17 ZookeeperClusterSpec.Image\n",
      "ZookeeperClusterSpec.Image.Repository\n",
      "ZookeeperClusterSpec.Image.Tag\n",
      "ZookeeperClusterSpec.Image.PullPolicy\n",
      "18 ZookeeperClusterSpec.Labels\n",
      "19 ZookeeperClusterSpec.Replicas\n",
      "20 ZookeeperClusterSpec.Ports\n",
      "21 ZookeeperClusterSpec.Pod\n",
      "ZookeeperClusterSpec.Pod.Labels\n",
      "ZookeeperClusterSpec.Pod.NodeSelector\n",
      "ZookeeperClusterSpec.Pod.Affinity\n",
      "ZookeeperClusterSpec.Pod.Resources\n",
      "ZookeeperClusterSpec.Pod.Tolerations\n",
      "ZookeeperClusterSpec.Pod.Env\n",
      "ZookeeperClusterSpec.Pod.Annotations\n",
      "ZookeeperClusterSpec.Pod.SecurityContext\n",
      "ZookeeperClusterSpec.Pod.TerminationGracePeriodSeconds\n",
      "ZookeeperClusterSpec.Pod.ServiceAccountName\n",
      "ZookeeperClusterSpec.Pod.ImagePullSecrets\n",
      "22 ZookeeperClusterSpec.AdminServerService\n",
      "ZookeeperClusterSpec.AdminServerService.Annotations\n",
      "ZookeeperClusterSpec.AdminServerService.External\n",
      "23 ZookeeperClusterSpec.ClientService\n",
      "ZookeeperClusterSpec.ClientService.Annotations\n",
      "24 ZookeeperClusterSpec.TriggerRollingRestart\n",
      "25 ZookeeperClusterSpec.HeadlessService\n",
      "ZookeeperClusterSpec.HeadlessService.Annotations\n",
      "26 ZookeeperClusterSpec.StorageType\n",
      "27 ZookeeperClusterSpec.Persistence\n",
      "28 ZookeeperClusterSpec.Ephemeral\n",
      "29 ZookeeperClusterSpec.Conf\n",
      "ZookeeperClusterSpec.Conf.InitLimit\n",
      "ZookeeperClusterSpec.Conf.TickTime\n",
      "ZookeeperClusterSpec.Conf.SyncLimit\n",
      "ZookeeperClusterSpec.Conf.GlobalOutstandingLimit\n",
      "ZookeeperClusterSpec.Conf.PreAllocSize\n",
      "ZookeeperClusterSpec.Conf.SnapCount\n",
      "ZookeeperClusterSpec.Conf.CommitLogCount\n",
      "ZookeeperClusterSpec.Conf.SnapSizeLimitInKb\n",
      "ZookeeperClusterSpec.Conf.MaxCnxns\n",
      "ZookeeperClusterSpec.Conf.MaxClientCnxns\n",
      "ZookeeperClusterSpec.Conf.MinSessionTimeout\n",
      "ZookeeperClusterSpec.Conf.MaxSessionTimeout\n",
      "ZookeeperClusterSpec.Conf.AutoPurgeSnapRetainCount\n",
      "ZookeeperClusterSpec.Conf.AutoPurgePurgeInterval\n",
      "ZookeeperClusterSpec.Conf.QuorumListenOnAllIPs\n",
      "ZookeeperClusterSpec.Conf.AdditionalConfig\n",
      "30 ZookeeperClusterSpec.DomainName\n",
      "31 ZookeeperClusterSpec.KubernetesClusterDomain\n",
      "32 ZookeeperClusterSpec.Containers\n",
      "33 ZookeeperClusterSpec.InitContainers\n",
      "34 ZookeeperClusterSpec.Volumes\n",
      "35 ZookeeperClusterSpec.VolumeMounts\n",
      "36 ZookeeperClusterSpec.Probes\n",
      "37 Probes.ReadinessProbe\n",
      "38 Probes.LivenessProbe\n",
      "39 Probe.InitialDelaySeconds\n",
      "40 Probe.PeriodSeconds\n",
      "41 Probe.FailureThreshold\n",
      "42 Probe.SuccessThreshold\n",
      "43 Probe.TimeoutSeconds\n",
      "44 ZookeeperCluster.Spec\n",
      "ZookeeperCluster.Spec.Image\n",
      "ZookeeperCluster.Spec.Image.PullPolicy\n",
      "ZookeeperCluster.Spec.Image.Repository\n",
      "ZookeeperCluster.Spec.Image.Tag\n",
      "ZookeeperCluster.Spec.Labels\n",
      "ZookeeperCluster.Spec.Replicas\n",
      "ZookeeperCluster.Spec.Ports\n",
      "ZookeeperCluster.Spec.Pod\n",
      "ZookeeperCluster.Spec.Pod.Labels\n",
      "ZookeeperCluster.Spec.Pod.Annotations\n",
      "ZookeeperCluster.Spec.Pod.Affinity\n",
      "ZookeeperCluster.Spec.Pod.NodeSelector\n",
      "ZookeeperCluster.Spec.Pod.Resources\n",
      "ZookeeperCluster.Spec.Pod.Tolerations\n",
      "ZookeeperCluster.Spec.Pod.Env\n",
      "ZookeeperCluster.Spec.Pod.SecurityContext\n",
      "ZookeeperCluster.Spec.Pod.TerminationGracePeriodSeconds\n",
      "ZookeeperCluster.Spec.Pod.ServiceAccountName\n",
      "ZookeeperCluster.Spec.Pod.ImagePullSecrets\n",
      "ZookeeperCluster.Spec.AdminServerService\n",
      "ZookeeperCluster.Spec.AdminServerService.Annotations\n",
      "ZookeeperCluster.Spec.AdminServerService.External\n",
      "ZookeeperCluster.Spec.ClientService\n",
      "ZookeeperCluster.Spec.ClientService.Annotations\n",
      "ZookeeperCluster.Spec.TriggerRollingRestart\n",
      "ZookeeperCluster.Spec.HeadlessService\n",
      "ZookeeperCluster.Spec.HeadlessService.Annotations\n",
      "ZookeeperCluster.Spec.StorageType\n",
      "ZookeeperCluster.Spec.Persistence\n",
      "ZookeeperCluster.Spec.Ephemeral\n",
      "ZookeeperCluster.Spec.Conf\n",
      "ZookeeperCluster.Spec.Conf.InitLimit\n",
      "ZookeeperCluster.Spec.Conf.TickTime\n",
      "ZookeeperCluster.Spec.Conf.SyncLimit\n",
      "ZookeeperCluster.Spec.Conf.GlobalOutstandingLimit\n",
      "ZookeeperCluster.Spec.Conf.PreAllocSize\n",
      "ZookeeperCluster.Spec.Conf.SnapCount\n",
      "ZookeeperCluster.Spec.Conf.CommitLogCount\n",
      "ZookeeperCluster.Spec.Conf.SnapSizeLimitInKb\n",
      "ZookeeperCluster.Spec.Conf.MaxCnxns\n",
      "ZookeeperCluster.Spec.Conf.MaxClientCnxns\n",
      "ZookeeperCluster.Spec.Conf.MinSessionTimeout\n",
      "ZookeeperCluster.Spec.Conf.MaxSessionTimeout\n",
      "ZookeeperCluster.Spec.Conf.AutoPurgeSnapRetainCount\n",
      "ZookeeperCluster.Spec.Conf.AutoPurgePurgeInterval\n",
      "ZookeeperCluster.Spec.Conf.QuorumListenOnAllIPs\n",
      "ZookeeperCluster.Spec.Conf.AdditionalConfig\n",
      "ZookeeperCluster.Spec.DomainName\n",
      "ZookeeperCluster.Spec.KubernetesClusterDomain\n",
      "ZookeeperCluster.Spec.Containers\n",
      "ZookeeperCluster.Spec.InitContainers\n",
      "ZookeeperCluster.Spec.Volumes\n",
      "ZookeeperCluster.Spec.VolumeMounts\n",
      "ZookeeperCluster.Spec.Probes\n",
      "45 ZookeeperCluster.Status\n",
      "ZookeeperCluster.Status.Members\n",
      "ZookeeperCluster.Status.Members.Ready\n",
      "ZookeeperCluster.Status.Members.Unready\n",
      "ZookeeperCluster.Status.Replicas\n",
      "ZookeeperCluster.Status.ReadyReplicas\n",
      "ZookeeperCluster.Status.InternalClientEndpoint\n",
      "ZookeeperCluster.Status.ExternalClientEndpoint\n",
      "ZookeeperCluster.Status.MetaRootCreated\n",
      "ZookeeperCluster.Status.CurrentVersion\n",
      "ZookeeperCluster.Status.TargetVersion\n",
      "ZookeeperCluster.Status.Conditions\n",
      "46 Ports.Client\n",
      "47 Ports.Quorum\n",
      "48 Ports.Leader\n",
      "49 Ports.Metrics\n",
      "50 Ports.AdminServer\n",
      "51 ContainerImage.Repository\n",
      "52 ContainerImage.Tag\n",
      "53 ContainerImage.PullPolicy\n",
      "54 PodPolicy.Labels\n",
      "55 PodPolicy.NodeSelector\n",
      "56 PodPolicy.Affinity\n",
      "57 PodPolicy.Resources\n",
      "58 PodPolicy.Tolerations\n",
      "59 PodPolicy.Env\n",
      "60 PodPolicy.Annotations\n",
      "61 PodPolicy.SecurityContext\n",
      "62 PodPolicy.TerminationGracePeriodSeconds\n",
      "63 PodPolicy.ServiceAccountName\n",
      "64 PodPolicy.ImagePullSecrets\n",
      "65 AdminServerServicePolicy.Annotations\n",
      "66 AdminServerServicePolicy.External\n",
      "67 ClientServicePolicy.Annotations\n",
      "HeadlessServicePolicy.Annotations\n",
      "68 ClientServicePolicy.Annotations\n",
      "HeadlessServicePolicy.Annotations\n",
      "69 ZookeeperConfig.InitLimit\n",
      "70 ZookeeperConfig.TickTime\n",
      "71 ZookeeperConfig.SyncLimit\n",
      "72 ZookeeperConfig.GlobalOutstandingLimit\n",
      "73 ZookeeperConfig.PreAllocSize\n",
      "74 ZookeeperConfig.SnapCount\n",
      "75 ZookeeperConfig.CommitLogCount\n",
      "76 ZookeeperConfig.SnapSizeLimitInKb\n",
      "77 ZookeeperConfig.MaxCnxns\n",
      "78 ZookeeperConfig.MaxClientCnxns\n",
      "79 ZookeeperConfig.MinSessionTimeout\n",
      "80 ZookeeperConfig.MaxSessionTimeout\n",
      "81 ZookeeperConfig.AutoPurgeSnapRetainCount\n",
      "82 ZookeeperConfig.AutoPurgePurgeInterval\n",
      "83 ZookeeperConfig.QuorumListenOnAllIPs\n",
      "84 ZookeeperConfig.AdditionalConfig\n",
      "85 Persistence.VolumeReclaimPolicy\n",
      "86 Persistence.PersistentVolumeClaimSpec\n",
      "87 Persistence.Annotations\n",
      "88 Ephemeral.EmptyDirVolumeSource\n",
      "89 ZookeeperClusterList.Items\n",
      "90 ReconcileZookeeperCluster.client\n",
      "91 ReconcileZookeeperCluster.scheme\n",
      "92 ReconcileZookeeperCluster.log\n",
      "93 ReconcileZookeeperCluster.zkClient\n",
      "94 DefaultZookeeperClient.conn\n",
      "95 ZookeeperClusterStatus.Members\n",
      "{'startLine': 34, 'startColumn': 2, 'endColumn': 50}\n"
     ]
    },
    {
     "ename": "Exception",
     "evalue": "",
     "output_type": "error",
     "traceback": [
      "\u001B[1;31m---------------------------------------------------------------------------\u001B[0m",
      "\u001B[1;31mKeyError\u001B[0m                                  Traceback (most recent call last)",
      "Cell \u001B[1;32mIn[14], line 3\u001B[0m\n\u001B[0;32m      2\u001B[0m \u001B[38;5;28;01mtry\u001B[39;00m:\n\u001B[1;32m----> 3\u001B[0m     \u001B[38;5;28mprint\u001B[39m(\u001B[38;5;28mstr\u001B[39m(idx)  \u001B[38;5;241m+\u001B[39m \u001B[38;5;124m\"\u001B[39m\u001B[38;5;124m \u001B[39m\u001B[38;5;124m\"\u001B[39m \u001B[38;5;241m+\u001B[39m  \u001B[43mi\u001B[49m\u001B[43m[\u001B[49m\u001B[38;5;241;43m0\u001B[39;49m\u001B[43m]\u001B[49m)\n\u001B[0;32m      4\u001B[0m \u001B[38;5;28;01mexcept\u001B[39;00m \u001B[38;5;167;01mException\u001B[39;00m:\n",
      "\u001B[1;31mKeyError\u001B[0m: 0",
      "\nDuring handling of the above exception, another exception occurred:\n",
      "\u001B[1;31mException\u001B[0m                                 Traceback (most recent call last)",
      "Cell \u001B[1;32mIn[14], line 6\u001B[0m\n\u001B[0;32m      4\u001B[0m \u001B[38;5;28;01mexcept\u001B[39;00m \u001B[38;5;167;01mException\u001B[39;00m:\n\u001B[0;32m      5\u001B[0m     \u001B[38;5;28mprint\u001B[39m(i)\n\u001B[1;32m----> 6\u001B[0m     \u001B[38;5;28;01mraise\u001B[39;00m \u001B[38;5;167;01mException\u001B[39;00m\n",
      "\u001B[1;31mException\u001B[0m: "
     ]
    }
   ],
   "execution_count": 14
  },
  {
   "cell_type": "code",
   "execution_count": 103,
   "metadata": {
    "ExecuteTime": {
     "end_time": "2024-08-21T16:28:32.378791Z",
     "start_time": "2024-08-21T16:28:32.365137900Z"
    },
    "collapsed": false
   },
   "outputs": [],
   "source": [
    "OUTPUT = r\"sample_phase/all_declare.ql-DbceDhNxzBGONsZOkCwSZ/interpretedResults.sarif\"\n",
    "\n",
    "all_declare_result_raw = json.load(open(OUTPUT, \"r\"))\n",
    "all_declare_result = list(map(lambda x: (x['message']['text'], x['locations'][0]['physicalLocation']['region']),\n",
    "                            all_declare_result_raw['runs'][0]['results']))"
   ]
  },
  {
   "cell_type": "code",
   "execution_count": 104,
   "metadata": {
    "ExecuteTime": {
     "end_time": "2024-08-21T16:28:32.568807500Z",
     "start_time": "2024-08-21T16:28:32.552852300Z"
    },
    "collapsed": false
   },
   "outputs": [],
   "source": [
    "all_declare_result"
   ]
  },
  {
   "cell_type": "code",
   "execution_count": 4,
   "metadata": {
    "ExecuteTime": {
     "end_time": "2024-08-28T00:14:23.782489Z",
     "start_time": "2024-08-28T00:14:23.776539Z"
    },
    "collapsed": false
   },
   "outputs": [],
   "source": [
    "OUTPUT = r\"./out/all_pruning_046092114101097108095099097115101092.sarif\"\n",
    "\n",
    "all_prune_result_raw = json.load(open(OUTPUT, \"r\"))\n",
    "all_prune_result = list(map(lambda x: (x['message']['text'], x['locations'][0]['physicalLocation']['region']),\n",
    "                            all_prune_result_raw['runs'][0]['results']))"
   ]
  },
  {
   "cell_type": "code",
   "execution_count": 5,
   "metadata": {
    "ExecuteTime": {
     "end_time": "2024-08-28T00:14:24.500598Z",
     "start_time": "2024-08-28T00:14:24.485482Z"
    },
    "collapsed": false
   },
   "outputs": [],
   "source": [
    "all_prune_result"
   ]
  },
  {
   "cell_type": "code",
   "execution_count": 107,
   "metadata": {
    "ExecuteTime": {
     "end_time": "2024-08-21T16:28:35.087507100Z",
     "start_time": "2024-08-21T16:28:35.075710700Z"
    },
    "collapsed": false
   },
   "outputs": [],
   "source": [
    "# need to run codeql bqrs decode results.bqrs --format=json --output=result.json to get select result\n",
    "\n",
    "OUTPUT = r\"sample_phase/all_select.ql-UH8_gcoix-O4HC8Di5NGy/interpretedResults.sarif\"\n",
    "\n",
    "all_select_result_raw = json.load(open(OUTPUT, \"r\"))\n",
    "all_select_result = list(map(lambda x: (x['message']['text'], x['locations'][0]['physicalLocation']['region']),\n",
    "                            all_select_result_raw['runs'][0]['results']))\n"
   ]
  },
  {
   "cell_type": "code",
   "execution_count": 108,
   "metadata": {
    "ExecuteTime": {
     "end_time": "2024-08-21T16:28:36.048000700Z",
     "start_time": "2024-08-21T16:28:36.036677100Z"
    },
    "collapsed": false
   },
   "outputs": [],
   "source": [
    "all_select_result"
   ]
  },
  {
   "cell_type": "code",
   "execution_count": null,
   "metadata": {
    "collapsed": false
   },
   "outputs": [],
   "source": []
  }
 ],
 "metadata": {
  "kernelspec": {
   "display_name": "Python 3 (ipykernel)",
   "language": "python",
   "name": "python3"
  }
 },
 "nbformat": 4,
 "nbformat_minor": 0
}
